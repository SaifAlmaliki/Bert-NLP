{
  "nbformat": 4,
  "nbformat_minor": 0,
  "metadata": {
    "accelerator": "GPU",
    "colab": {
      "name": "Untitled0.ipynb",
      "provenance": [],
      "collapsed_sections": [],
      "toc_visible": true,
      "authorship_tag": "ABX9TyNh9389o/SJyOsOVYaim9Lj",
      "include_colab_link": true
    },
    "kernelspec": {
      "display_name": "Python 3",
      "name": "python3"
    }
  },
  "cells": [
    {
      "cell_type": "markdown",
      "metadata": {
        "id": "view-in-github",
        "colab_type": "text"
      },
      "source": [
        "<a href=\"https://colab.research.google.com/github/SaifAlmaliki/Bert-NLP/blob/main/Sentiment%20Analysis%20-%20BERT.ipynb\" target=\"_parent\"><img src=\"https://colab.research.google.com/assets/colab-badge.svg\" alt=\"Open In Colab\"/></a>"
      ]
    },
    {
      "cell_type": "code",
      "metadata": {
        "id": "ThLhHtyEyyxj"
      },
      "source": [
        "!pip install ktrain"
      ],
      "execution_count": null,
      "outputs": []
    },
    {
      "cell_type": "code",
      "metadata": {
        "id": "pWFGHq1QzoVC"
      },
      "source": [
        ""
      ],
      "execution_count": null,
      "outputs": []
    },
    {
      "cell_type": "code",
      "metadata": {
        "id": "rTaSN67WzIHa"
      },
      "source": [
        "import tensorflow as tf\n",
        "import pandas as pd\n",
        "import numpy as np\n",
        "import ktrain\n",
        "from ktrain import text\n",
        "import tensorflow as tf"
      ],
      "execution_count": null,
      "outputs": []
    },
    {
      "cell_type": "code",
      "metadata": {
        "id": "hGCeUh7_zJ0n",
        "outputId": "9ec79d39-7ae2-4a40-9142-dadbda7aafd4",
        "colab": {
          "base_uri": "https://localhost:8080/",
          "height": 35
        }
      },
      "source": [
        "tf.__version__"
      ],
      "execution_count": null,
      "outputs": [
        {
          "output_type": "execute_result",
          "data": {
            "application/vnd.google.colaboratory.intrinsic+json": {
              "type": "string"
            },
            "text/plain": [
              "'2.3.0'"
            ]
          },
          "metadata": {
            "tags": []
          },
          "execution_count": 3
        }
      ]
    },
    {
      "cell_type": "markdown",
      "metadata": {
        "id": "Ak_k8ZCpzMkt"
      },
      "source": [
        "**Downloading IMDB dataset**"
      ]
    },
    {
      "cell_type": "code",
      "metadata": {
        "id": "oqwWyDq0zRQJ"
      },
      "source": [
        "!git clone https://github.com/laxmimerit/IMDB-Movie-Reviews-Large-Dataset-50k.git\n"
      ],
      "execution_count": null,
      "outputs": []
    },
    {
      "cell_type": "code",
      "metadata": {
        "id": "VFqNFqr4zp6G"
      },
      "source": [
        "# Loading the train dataset\n",
        "\n",
        "data_train = pd.read_excel('IMDB-Movie-Reviews-Large-Dataset-50k/train.xlsx', dtype = str)"
      ],
      "execution_count": null,
      "outputs": []
    },
    {
      "cell_type": "code",
      "metadata": {
        "id": "Zzl72HrEzzFf"
      },
      "source": [
        "#loading the test dataset\n",
        "\n",
        "data_test = pd.read_excel('IMDB-Movie-Reviews-Large-Dataset-50k/test.xlsx', dtype = str)"
      ],
      "execution_count": null,
      "outputs": []
    },
    {
      "cell_type": "code",
      "metadata": {
        "id": "ghvEdEvJz1_k",
        "outputId": "16818fec-8932-4ed2-bc5b-4fd92c08318d",
        "colab": {
          "base_uri": "https://localhost:8080/"
        }
      },
      "source": [
        "#dimension of the dataset\n",
        "\n",
        "print(\"Size of train dataset: \",data_train.shape)\n",
        "print(\"Size of test dataset: \",data_test.shape)"
      ],
      "execution_count": null,
      "outputs": [
        {
          "output_type": "stream",
          "text": [
            "Size of train dataset:  (25000, 2)\n",
            "Size of test dataset:  (25000, 2)\n"
          ],
          "name": "stdout"
        }
      ]
    },
    {
      "cell_type": "code",
      "metadata": {
        "id": "Cxf_rg3u0Jk2",
        "outputId": "a22b082d-4f95-44b7-ea69-6725329b7774",
        "colab": {
          "base_uri": "https://localhost:8080/",
          "height": 204
        }
      },
      "source": [
        "#printing last 5 rows of train dataset\n",
        "\n",
        "data_train.tail()"
      ],
      "execution_count": null,
      "outputs": [
        {
          "output_type": "execute_result",
          "data": {
            "text/html": [
              "<div>\n",
              "<style scoped>\n",
              "    .dataframe tbody tr th:only-of-type {\n",
              "        vertical-align: middle;\n",
              "    }\n",
              "\n",
              "    .dataframe tbody tr th {\n",
              "        vertical-align: top;\n",
              "    }\n",
              "\n",
              "    .dataframe thead th {\n",
              "        text-align: right;\n",
              "    }\n",
              "</style>\n",
              "<table border=\"1\" class=\"dataframe\">\n",
              "  <thead>\n",
              "    <tr style=\"text-align: right;\">\n",
              "      <th></th>\n",
              "      <th>Reviews</th>\n",
              "      <th>Sentiment</th>\n",
              "    </tr>\n",
              "  </thead>\n",
              "  <tbody>\n",
              "    <tr>\n",
              "      <th>24995</th>\n",
              "      <td>Everyone plays their part pretty well in this ...</td>\n",
              "      <td>pos</td>\n",
              "    </tr>\n",
              "    <tr>\n",
              "      <th>24996</th>\n",
              "      <td>It happened with Assault on Prescient 13 in 20...</td>\n",
              "      <td>neg</td>\n",
              "    </tr>\n",
              "    <tr>\n",
              "      <th>24997</th>\n",
              "      <td>My God. This movie was awful. I can't complain...</td>\n",
              "      <td>neg</td>\n",
              "    </tr>\n",
              "    <tr>\n",
              "      <th>24998</th>\n",
              "      <td>When I first popped in Happy Birthday to Me, I...</td>\n",
              "      <td>neg</td>\n",
              "    </tr>\n",
              "    <tr>\n",
              "      <th>24999</th>\n",
              "      <td>So why does this show suck? Unfortunately, tha...</td>\n",
              "      <td>neg</td>\n",
              "    </tr>\n",
              "  </tbody>\n",
              "</table>\n",
              "</div>"
            ],
            "text/plain": [
              "                                                 Reviews Sentiment\n",
              "24995  Everyone plays their part pretty well in this ...       pos\n",
              "24996  It happened with Assault on Prescient 13 in 20...       neg\n",
              "24997  My God. This movie was awful. I can't complain...       neg\n",
              "24998  When I first popped in Happy Birthday to Me, I...       neg\n",
              "24999  So why does this show suck? Unfortunately, tha...       neg"
            ]
          },
          "metadata": {
            "tags": []
          },
          "execution_count": 8
        }
      ]
    },
    {
      "cell_type": "code",
      "metadata": {
        "id": "oHpfzMdn0O3L",
        "outputId": "4d07de33-b879-4fb5-a1ba-364e01577e33",
        "colab": {
          "base_uri": "https://localhost:8080/",
          "height": 204
        }
      },
      "source": [
        "#printing head rows of test dataset\n",
        "\n",
        "data_test.head()"
      ],
      "execution_count": null,
      "outputs": [
        {
          "output_type": "execute_result",
          "data": {
            "text/html": [
              "<div>\n",
              "<style scoped>\n",
              "    .dataframe tbody tr th:only-of-type {\n",
              "        vertical-align: middle;\n",
              "    }\n",
              "\n",
              "    .dataframe tbody tr th {\n",
              "        vertical-align: top;\n",
              "    }\n",
              "\n",
              "    .dataframe thead th {\n",
              "        text-align: right;\n",
              "    }\n",
              "</style>\n",
              "<table border=\"1\" class=\"dataframe\">\n",
              "  <thead>\n",
              "    <tr style=\"text-align: right;\">\n",
              "      <th></th>\n",
              "      <th>Reviews</th>\n",
              "      <th>Sentiment</th>\n",
              "    </tr>\n",
              "  </thead>\n",
              "  <tbody>\n",
              "    <tr>\n",
              "      <th>0</th>\n",
              "      <td>Who would have thought that a movie about a ma...</td>\n",
              "      <td>pos</td>\n",
              "    </tr>\n",
              "    <tr>\n",
              "      <th>1</th>\n",
              "      <td>After realizing what is going on around us ......</td>\n",
              "      <td>pos</td>\n",
              "    </tr>\n",
              "    <tr>\n",
              "      <th>2</th>\n",
              "      <td>I grew up watching the original Disney Cindere...</td>\n",
              "      <td>neg</td>\n",
              "    </tr>\n",
              "    <tr>\n",
              "      <th>3</th>\n",
              "      <td>David Mamet wrote the screenplay and made his ...</td>\n",
              "      <td>pos</td>\n",
              "    </tr>\n",
              "    <tr>\n",
              "      <th>4</th>\n",
              "      <td>Admittedly, I didn't have high expectations of...</td>\n",
              "      <td>neg</td>\n",
              "    </tr>\n",
              "  </tbody>\n",
              "</table>\n",
              "</div>"
            ],
            "text/plain": [
              "                                             Reviews Sentiment\n",
              "0  Who would have thought that a movie about a ma...       pos\n",
              "1  After realizing what is going on around us ......       pos\n",
              "2  I grew up watching the original Disney Cindere...       neg\n",
              "3  David Mamet wrote the screenplay and made his ...       pos\n",
              "4  Admittedly, I didn't have high expectations of...       neg"
            ]
          },
          "metadata": {
            "tags": []
          },
          "execution_count": 9
        }
      ]
    },
    {
      "cell_type": "markdown",
      "metadata": {
        "id": "lJDp6VGc0UB5"
      },
      "source": [
        "**Splitting data into Train and Test:**"
      ]
    },
    {
      "cell_type": "code",
      "metadata": {
        "id": "Rc3WUqic0TA0",
        "outputId": "addfd35e-cc5a-4d31-8bfb-2ee5e08a3d0e",
        "colab": {
          "base_uri": "https://localhost:8080/",
          "height": 272
        }
      },
      "source": [
        "# text.texts_from_df return two tuples\n",
        "# maxlen means it is considering that much words and rest are getting trucated\n",
        "# preprocess_mode means tokenizing, embedding and transformation of text corpus(here it is considering BERT model)\n",
        "\n",
        "\n",
        "(X_train, y_train), (X_test, y_test), preproc = text.texts_from_df(train_df=data_train,\n",
        "                                                                   text_column = 'Reviews',\n",
        "                                                                   label_columns = 'Sentiment',\n",
        "                                                                   val_df = data_test,\n",
        "                                                                   maxlen = 500,\n",
        "                                                                   preprocess_mode = 'bert')"
      ],
      "execution_count": null,
      "outputs": [
        {
          "output_type": "stream",
          "text": [
            "downloading pretrained BERT model (uncased_L-12_H-768_A-12.zip)...\n",
            "[██████████████████████████████████████████████████]\n",
            "extracting pretrained BERT model...\n",
            "done.\n",
            "\n",
            "cleanup downloaded zip...\n",
            "done.\n",
            "\n",
            "preprocessing train...\n",
            "language: en\n"
          ],
          "name": "stdout"
        },
        {
          "output_type": "display_data",
          "data": {
            "text/html": [
              "done."
            ],
            "text/plain": [
              "<IPython.core.display.HTML object>"
            ]
          },
          "metadata": {
            "tags": []
          }
        },
        {
          "output_type": "stream",
          "text": [
            "Is Multi-Label? False\n",
            "preprocessing test...\n",
            "language: en\n"
          ],
          "name": "stdout"
        },
        {
          "output_type": "display_data",
          "data": {
            "text/html": [
              "done."
            ],
            "text/plain": [
              "<IPython.core.display.HTML object>"
            ]
          },
          "metadata": {
            "tags": []
          }
        }
      ]
    },
    {
      "cell_type": "markdown",
      "metadata": {
        "id": "_IPAPHpg1J_M"
      },
      "source": [
        "**Observation:**\n",
        "\n",
        "You can able to see that it is detecting language as an English.\n",
        "\n",
        "\n",
        "Also, this is not a multilabel classification"
      ]
    },
    {
      "cell_type": "code",
      "metadata": {
        "id": "ORJ54DwR1RSm",
        "outputId": "1e92e668-2a80-4ed0-dfc5-5b966b9512f3",
        "colab": {
          "base_uri": "https://localhost:8080/"
        }
      },
      "source": [
        "# name = \"bert\" means, here we are using BERT model.\n",
        "\n",
        "model = text.text_classifier(name = 'bert',\n",
        "                             train_data = (X_train, y_train),\n",
        "                             preproc = preproc)"
      ],
      "execution_count": null,
      "outputs": [
        {
          "output_type": "stream",
          "text": [
            "Is Multi-Label? False\n",
            "maxlen is 500\n",
            "done.\n"
          ],
          "name": "stdout"
        }
      ]
    },
    {
      "cell_type": "code",
      "metadata": {
        "id": "PDgBbgQZ1s_6"
      },
      "source": [
        "# Here we have taken batch size as 6 as from the documentation it is recommend to use this with maxlen as 500\n",
        "\n",
        "learner = ktrain.get_learner(model=model, \n",
        "                             train_data=(X_train, y_train),\n",
        "                             val_data = (X_test, y_test),\n",
        "                             batch_size = 6)"
      ],
      "execution_count": null,
      "outputs": []
    },
    {
      "cell_type": "markdown",
      "metadata": {
        "id": "7wfNxHRL2BMH"
      },
      "source": [
        "**Find out best learning rate?**\n",
        "\n",
        "it may take days or many days to find out.\n",
        "\n",
        "\n"
      ]
    },
    {
      "cell_type": "code",
      "metadata": {
        "id": "O-dARVKB2G3y",
        "outputId": "2a1be7cc-8319-4efa-c7ff-ce99e21d69e8",
        "colab": {
          "base_uri": "https://localhost:8080/",
          "height": 524
        }
      },
      "source": [
        "learner.lr_find(max_epochs=5)\n",
        "learner.lr_plot()"
      ],
      "execution_count": null,
      "outputs": [
        {
          "output_type": "stream",
          "text": [
            "simulating training for different learning rates... this may take a few moments...\n",
            "Epoch 1/5\n",
            "4167/4167 [==============================] - 4256s 1s/step - loss: 0.4127 - accuracy: 0.8055\n",
            "Epoch 2/5\n",
            "4167/4167 [==============================] - 4255s 1s/step - loss: 0.3016 - accuracy: 0.8657\n",
            "Epoch 3/5\n",
            "4167/4167 [==============================] - 4216s 1s/step - loss: 0.8177 - accuracy: 0.4972\n",
            "Epoch 4/5\n",
            "4167/4167 [==============================] - 4218s 1s/step - loss: 1.1474 - accuracy: 0.5016\n",
            "\n",
            "\n",
            "done.\n",
            "Please invoke the Learner.lr_plot() method to visually inspect the loss plot to help identify the maximal learning rate associated with falling loss.\n"
          ],
          "name": "stdout"
        },
        {
          "output_type": "display_data",
          "data": {
            "image/png": "[encoded data removed]",
            "text/plain": [
              "<Figure size 432x288 with 1 Axes>"
            ]
          },
          "metadata": {
            "tags": []
          }
        }
      ]
    },
    {
      "cell_type": "code",
      "metadata": {
        "id": "7C_aF37K2NO3",
        "outputId": "85584f0c-08cd-407e-c34e-3bc747efb4ff",
        "colab": {
          "base_uri": "https://localhost:8080/"
        }
      },
      "source": [
        "#Essentially fit is a very basic training loop, whereas fit one cycle uses the one cycle policy callback\n",
        "\n",
        "learner.fit_onecycle(lr = 2e-5, epochs = 5)\n",
        "\n",
        "predictor = ktrain.get_predictor(learner.model, preproc)\n",
        "predictor.save('/content/drive/My Drive/bert')"
      ],
      "execution_count": null,
      "outputs": [
        {
          "output_type": "stream",
          "text": [
            "\n",
            "\n",
            "begin training using onecycle policy with max lr of 2e-05...\n",
            "4167/4167 [==============================] - 5383s 1s/step - loss: 0.2487 - accuracy: 0.8974 - val_loss: 0.0992 - val_accuracy: 0.9692\n"
          ],
          "name": "stdout"
        }
      ]
    },
    {
      "cell_type": "markdown",
      "metadata": {
        "id": "9DNkq_DA2YMF"
      },
      "source": [
        "**Lets Test our Model**"
      ]
    },
    {
      "cell_type": "code",
      "metadata": {
        "id": "ap_dqCIm2a0H"
      },
      "source": [
        "#sample dataset to test on\n",
        "\n",
        "data = ['this movie was horrible, the plot was really boring. acting was okay',\n",
        "        'the film is really sucked. there is not plot and acting was bad',\n",
        "        'what a beautiful movie. great plot. acting was good. will see it again']"
      ],
      "execution_count": 23,
      "outputs": []
    },
    {
      "cell_type": "code",
      "metadata": {
        "id": "ko0_NVFY3ww4",
        "outputId": "c86385a5-adbe-4180-b8dc-9f2da6034be8",
        "colab": {
          "base_uri": "https://localhost:8080/",
          "height": 34
        }
      },
      "source": [
        "# return_proba = True ==> means it will give the prediction probabilty for each class\n",
        "predictor.predict(data)\n",
        "# predictor.predict(data, return_proba=True)"
      ],
      "execution_count": 26,
      "outputs": [
        {
          "output_type": "display_data",
          "data": {
            "text/html": [
              ""
            ],
            "text/plain": [
              "<IPython.core.display.HTML object>"
            ]
          },
          "metadata": {
            "tags": []
          }
        },
        {
          "output_type": "execute_result",
          "data": {
            "text/plain": [
              "['neg', 'neg', 'pos']"
            ]
          },
          "metadata": {
            "tags": []
          },
          "execution_count": 26
        }
      ]
    },
    {
      "cell_type": "code",
      "metadata": {
        "id": "MrCE9uQ7Vnng",
        "outputId": "ec628591-80fd-4caf-e624-df4d4f60cbb7",
        "colab": {
          "base_uri": "https://localhost:8080/",
          "height": 68
        }
      },
      "source": [
        "# We can Add parameter (return_proba = True) ==> means it will give the prediction probabilty for each class\n",
        "\n",
        "predictor.predict(data, return_proba=True)"
      ],
      "execution_count": 27,
      "outputs": [
        {
          "output_type": "display_data",
          "data": {
            "text/html": [
              ""
            ],
            "text/plain": [
              "<IPython.core.display.HTML object>"
            ]
          },
          "metadata": {
            "tags": []
          }
        },
        {
          "output_type": "execute_result",
          "data": {
            "text/plain": [
              "array([[0.9963238 , 0.00367619],\n",
              "       [0.9949956 , 0.00500443],\n",
              "       [0.00383797, 0.99616206]], dtype=float32)"
            ]
          },
          "metadata": {
            "tags": []
          },
          "execution_count": 27
        }
      ]
    }
  ]
}
